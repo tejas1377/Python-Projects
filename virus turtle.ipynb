{
 "cells": [
  {
   "cell_type": "code",
   "execution_count": 1,
   "id": "4bde962c",
   "metadata": {},
   "outputs": [],
   "source": [
    "import turtle\n",
    "a=0\n",
    "b=0\n",
    "\n",
    "turtle.bgcolor(\"black\")\n",
    "turtle.speed(50)\n",
    "turtle.pencolor(\"green\")\n",
    "turtle.penup()\n",
    "turtle.goto(0,200)\n",
    "turtle.pendown()\n",
    "\n",
    "\n",
    "while True:\n",
    "\tturtle.forward(a)\n",
    "\tturtle.right(b)\n",
    "\ta+=3\n",
    "\tb+=1\n",
    "\tif b ==200:\n",
    "         break"
   ]
  },
  {
   "cell_type": "code",
   "execution_count": null,
   "id": "fec38d30",
   "metadata": {},
   "outputs": [],
   "source": [
    "class canteen:     #parent class\n",
    "    def __init__(self):\n",
    "        self.cn=\"\"\n",
    "        self.ca=\"\"\n",
    "        self.an=0\n",
    "        self.cb=0\n",
    "    def acc_create(self,cn,ca,an,cb):\n",
    "        self.cn=cn\n",
    "        self.ca=ca\n",
    "        self.an=an\n",
    "        self.cb=cb\n",
    "    def chbl(self):\n",
    "        print(\"customer name\",self.cn)\n",
    "        print(\"customer issue\",self.ca)\n",
    "        print(\"customer no.\",self.an)\n",
    "        print(\"customer bank balance\",self.cb)\n",
    "    def upbl(self):\n",
    "         print(\"customer updated balance is\",self.cb)\n",
    "class cst(canteen):             #child class\n",
    "    def withdraw(self,v):\n",
    "        self.cb=self.cb-v\n",
    "    def deposit(self,v):\n",
    "        self.cb=self.cb+v\n",
    "ob=cst()\n",
    "choice=0\n",
    "while(choice!=5):\n",
    "    choice=int(input('Enter your coice: 1.create acc 2.check balance 3.deposite 4.consumed 5.EXIT '))\n",
    "    if(choice==1):\n",
    "        cn=input('Enter Name')\n",
    "        ca=input('Enter any issue or feedback')\n",
    "        an=eval(input('Enter costumer no.'))\n",
    "        cb=eval(input('Enter initial balance'))\n",
    "        ob.acc_create(cn,ca,an,cb)\n",
    "    if(choice==2):\n",
    "        ob.chbl()\n",
    "    if(choice==3):\n",
    "        v=eval(input('Enter amount to deposit'))\n",
    "        ob.deposit(v)\n",
    "        ob.upbl()\n",
    "    if(choice==4):\n",
    "        v=eval(input('Enter amount consumed by costumer '))\n",
    "        ob.withdraw(v)\n",
    "        ob.upbl()"
   ]
  },
  {
   "cell_type": "code",
   "execution_count": null,
   "id": "4965f869",
   "metadata": {},
   "outputs": [],
   "source": []
  }
 ],
 "metadata": {
  "kernelspec": {
   "display_name": "Python 3 (ipykernel)",
   "language": "python",
   "name": "python3"
  },
  "language_info": {
   "codemirror_mode": {
    "name": "ipython",
    "version": 3
   },
   "file_extension": ".py",
   "mimetype": "text/x-python",
   "name": "python",
   "nbconvert_exporter": "python",
   "pygments_lexer": "ipython3",
   "version": "3.10.6"
  }
 },
 "nbformat": 4,
 "nbformat_minor": 5
}
