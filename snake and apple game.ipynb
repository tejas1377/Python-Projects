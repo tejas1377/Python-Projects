{
 "cells": [
  {
   "cell_type": "code",
   "execution_count": 30,
   "id": "57a57e3a",
   "metadata": {},
   "outputs": [],
   "source": []
  },
  {
   "cell_type": "code",
   "execution_count": 1,
   "id": "a766db4f",
   "metadata": {},
   "outputs": [
    {
     "name": "stdout",
     "output_type": "stream",
     "text": [
      "33\n",
      "34\n",
      "35\n",
      "36\n",
      "37\n",
      "38\n",
      "39\n"
     ]
    }
   ],
   "source": [
    "t=33\n",
    "while t<44:\n",
    "    print(t)\n",
    "    t=t+1\n",
    "    if t==40:\n",
    "        break"
   ]
  },
  {
   "cell_type": "code",
   "execution_count": 4,
   "id": "951f02ee",
   "metadata": {},
   "outputs": [
    {
     "name": "stdout",
     "output_type": "stream",
     "text": [
      "enter ID=tejas123\n",
      "enter NameTEjas Jadhav\n",
      "Enter addressNanded\n",
      "Id is: <built-in function id>\n",
      "name is: TEjas Jadhav\n",
      "address is: Nanded\n"
     ]
    }
   ],
   "source": [
    "def arguments(id ,name,address):\n",
    "    return id,name,address\n",
    "Id=input(\"enter ID=\")\n",
    "name=input(\"enter Name\")\n",
    "address=input(\"Enter address\")\n",
    "a,b,c=arguments(id,name,address)\n",
    "print(\"Id is:\",a)\n",
    "print(\"name is:\",b)\n",
    "print(\"address is:\",c)"
   ]
  },
  {
   "cell_type": "code",
   "execution_count": 3,
   "id": "9837a7fb",
   "metadata": {},
   "outputs": [
    {
     "name": "stdout",
     "output_type": "stream",
     "text": [
      "pygame 2.1.2 (SDL 2.0.18, Python 3.10.6)\n",
      "Hello from the pygame community. https://www.pygame.org/contribute.html\n"
     ]
    },
    {
     "ename": "FileNotFoundError",
     "evalue": "No file 'resources/block.jpg' found in working directory 'E:\\TEJAS\\Python'.",
     "output_type": "error",
     "traceback": [
      "\u001b[1;31m---------------------------------------------------------------------------\u001b[0m",
      "\u001b[1;31mFileNotFoundError\u001b[0m                         Traceback (most recent call last)",
      "Input \u001b[1;32mIn [3]\u001b[0m, in \u001b[0;36m<cell line: 11>\u001b[1;34m()\u001b[0m\n\u001b[0;32m     14\u001b[0m surface \u001b[38;5;241m=\u001b[39m pygame\u001b[38;5;241m.\u001b[39mdisplay\u001b[38;5;241m.\u001b[39mset_mode((\u001b[38;5;241m500\u001b[39m, \u001b[38;5;241m500\u001b[39m))\n\u001b[0;32m     15\u001b[0m surface\u001b[38;5;241m.\u001b[39mfill((\u001b[38;5;241m110\u001b[39m, \u001b[38;5;241m110\u001b[39m, \u001b[38;5;241m5\u001b[39m))\n\u001b[1;32m---> 17\u001b[0m block \u001b[38;5;241m=\u001b[39m \u001b[43mpygame\u001b[49m\u001b[38;5;241;43m.\u001b[39;49m\u001b[43mimage\u001b[49m\u001b[38;5;241;43m.\u001b[39;49m\u001b[43mload\u001b[49m\u001b[43m(\u001b[49m\u001b[38;5;124;43m\"\u001b[39;49m\u001b[38;5;124;43mresources/block.jpg\u001b[39;49m\u001b[38;5;124;43m\"\u001b[39;49m\u001b[43m)\u001b[49m\u001b[38;5;241m.\u001b[39mconvert()\n\u001b[0;32m     19\u001b[0m block_x, block_y \u001b[38;5;241m=\u001b[39m \u001b[38;5;241m100\u001b[39m, \u001b[38;5;241m100\u001b[39m\n\u001b[0;32m     21\u001b[0m surface\u001b[38;5;241m.\u001b[39mblit(block, (block_x, block_y))\n",
      "\u001b[1;31mFileNotFoundError\u001b[0m: No file 'resources/block.jpg' found in working directory 'E:\\TEJAS\\Python'."
     ]
    }
   ],
   "source": [
    "# Build a screen and a moving block\n",
    "\n",
    "import pygame\n",
    "from pygame.locals import *\n",
    "\n",
    "def draw_block():\n",
    "    surface.fill((110, 110, 5))\n",
    "    surface.blit(block, (block_x, block_y))\n",
    "    pygame.display.flip()\n",
    "\n",
    "if __name__ == '__main__':\n",
    "    pygame.init()\n",
    "\n",
    "    surface = pygame.display.set_mode((500, 500))\n",
    "    surface.fill((110, 110, 5))\n",
    "\n",
    "    block = pygame.image.load(\"resources/block.jpg\").convert()\n",
    "\n",
    "    block_x, block_y = 100, 100\n",
    "\n",
    "    surface.blit(block, (block_x, block_y))\n",
    "\n",
    "    pygame.display.flip()\n",
    "\n",
    "    running = True\n",
    "\n",
    "    while running:\n",
    "        for event in pygame.event.get():\n",
    "            if event.type == KEYDOWN:\n",
    "                if event.key == K_ESCAPE:\n",
    "                    running = False\n",
    "                if event.key == K_LEFT:\n",
    "                    block_x -= 10\n",
    "                    draw_block()\n",
    "                if event.key == K_RIGHT:\n",
    "                    block_x += 10\n",
    "                    draw_block()\n",
    "                if event.key == K_UP:\n",
    "                    block_y -= 10\n",
    "                    draw_block()\n",
    "                if event.key == K_DOWN:\n",
    "                    block_y += 10\n",
    "                    draw_block()\n",
    "\n",
    "            elif event.type == QUIT:\n",
    "                running = False"
   ]
  },
  {
   "cell_type": "code",
   "execution_count": 2,
   "id": "f4f5285d",
   "metadata": {},
   "outputs": [
    {
     "name": "stdout",
     "output_type": "stream",
     "text": [
      "Collecting pygame\n",
      "  Downloading pygame-2.1.2-cp310-cp310-win_amd64.whl (8.4 MB)\n",
      "     ---------------------------------------- 8.4/8.4 MB 1.8 MB/s eta 0:00:00\n",
      "Installing collected packages: pygame\n",
      "Successfully installed pygame-2.1.2\n"
     ]
    },
    {
     "name": "stderr",
     "output_type": "stream",
     "text": [
      "\n",
      "[notice] A new release of pip available: 22.2.1 -> 22.2.2\n",
      "[notice] To update, run: python.exe -m pip install --upgrade pip\n"
     ]
    }
   ],
   "source": [
    "!pip install pygame"
   ]
  },
  {
   "cell_type": "code",
   "execution_count": null,
   "id": "e878cc35",
   "metadata": {},
   "outputs": [],
   "source": []
  }
 ],
 "metadata": {
  "kernelspec": {
   "display_name": "Python 3 (ipykernel)",
   "language": "python",
   "name": "python3"
  },
  "language_info": {
   "codemirror_mode": {
    "name": "ipython",
    "version": 3
   },
   "file_extension": ".py",
   "mimetype": "text/x-python",
   "name": "python",
   "nbconvert_exporter": "python",
   "pygments_lexer": "ipython3",
   "version": "3.10.6"
  }
 },
 "nbformat": 4,
 "nbformat_minor": 5
}
